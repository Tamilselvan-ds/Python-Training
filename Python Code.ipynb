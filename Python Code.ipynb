{
 "cells": [
  {
   "cell_type": "markdown",
   "metadata": {},
   "source": [
    "#***********************************************Python Basics**************************************************\n",
    "Rules for defining variables\n",
    "          1.No space in the variable name\n",
    "          2.Var name should not start with a number\n",
    "          3.No special charaters allowed in the variable names except underscore"
   ]
  },
  {
   "cell_type": "code",
   "execution_count": 10,
   "metadata": {},
   "outputs": [
    {
     "name": "stdout",
     "output_type": "stream",
     "text": [
      "Tamil\n",
      "Tamil\n",
      "selva\n"
     ]
    }
   ],
   "source": [
    "first_name='Tamil'\n",
    "print(first_name)\n",
    "firstname='Tamil'\n",
    "print(firstname)\n",
    "name1='selva'\n",
    "print(name1)"
   ]
  },
  {
   "cell_type": "markdown",
   "metadata": {},
   "source": [
    "Introduction to Datatypes in Python\n",
    "1. Strings   2.Integers   3. list   4. Tuple   5.Dictionary\n",
    "Python is case sensitive\n",
    "Datatypes are classified as 1. Mutable  2. Immutable\n",
    "    Mutable-The data can be modified /altered once it is created\n",
    "    Immutable- The data cannot be altered once it is created"
   ]
  },
  {
   "cell_type": "markdown",
   "metadata": {},
   "source": [
    "Introduction to String data types\n",
    "String:- Series os characters\n",
    "Defining strings-Three possible ways of declaring a string\n",
    "Ex- 'Tamil', \"Tamil\", \"\"\"Tamil\"\"\"-Can use any one based coders choice.No hard rules to use what"
   ]
  },
  {
   "cell_type": "code",
   "execution_count": 12,
   "metadata": {},
   "outputs": [
    {
     "name": "stdout",
     "output_type": "stream",
     "text": [
      "Tamil\n",
      "Tamil\n",
      "Tamil\n"
     ]
    }
   ],
   "source": [
    "name1='Tamil'\n",
    "print(name1)\n",
    "name2=\"Tamil\"\n",
    "print(name2)\n",
    "name3=\"\"\"Tamil\"\"\"\n",
    "print(name3)"
   ]
  },
  {
   "cell_type": "code",
   "execution_count": 15,
   "metadata": {},
   "outputs": [
    {
     "data": {
      "text/plain": [
       "str"
      ]
     },
     "execution_count": 15,
     "metadata": {},
     "output_type": "execute_result"
    }
   ],
   "source": [
    "#Introduction to string built in methods\n",
    "type(name1)              #-->To verify the dtatatype of a variable"
   ]
  },
  {
   "cell_type": "code",
   "execution_count": null,
   "metadata": {},
   "outputs": [],
   "source": []
  }
 ],
 "metadata": {
  "kernelspec": {
   "display_name": "Python 3",
   "language": "python",
   "name": "python3"
  },
  "language_info": {
   "codemirror_mode": {
    "name": "ipython",
    "version": 3
   },
   "file_extension": ".py",
   "mimetype": "text/x-python",
   "name": "python",
   "nbconvert_exporter": "python",
   "pygments_lexer": "ipython3",
   "version": "3.7.6"
  }
 },
 "nbformat": 4,
 "nbformat_minor": 4
}
